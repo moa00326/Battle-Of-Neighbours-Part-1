{
    "cells": [
        {
            "cell_type": "markdown",
            "metadata": {},
            "source": "# **Introduction**"
        },
        {
            "cell_type": "markdown",
            "metadata": {},
            "source": "There are many travel sites on the Internet, including FourSquare, that will tell you all about places to go, adventurous landscapes, restaurants to eat at, bars, nightclubs etc. The problems with these sites is that they do not tell you all the details. If you want to find out all the necessary information about a place you plan to visit in the future, you have to do the a lot of research. Also, just because a venue is the hottest place to go for a night out does not always mean that the unwitting tourist should just ramble in unprepared. The areas surrounding this new venue might be riddled with crime including car highjacking and assault etc.This is where the idea comes in."
        },
        {
            "cell_type": "markdown",
            "metadata": {},
            "source": "# **The big Idea**"
        },
        {
            "cell_type": "markdown",
            "metadata": {},
            "source": "My idea for the Capstone Project is to show that when driven by venue and location data from FourSquare, backed up with open source crime data, that it is possible to present the cautious and nervous traveller with a list of attractions to visit supplementd with a graphics showing the occurance of crime in the region of the venue.\nThe main idea is t present the traveller with all the necessary information about that particular place so they can make a better choice for the place they want to visit, For example:\n-A map is presented to the to the traveller showing the selected venues and crime statistics of the area."
        },
        {
            "cell_type": "markdown",
            "metadata": {},
            "source": "# **Data**"
        },
        {
            "cell_type": "markdown",
            "metadata": {},
            "source": "The following will be addressed in this project:\n-Query the FourSqaure website for the top sites in Chicago\n-Use the FourSquare API to get supplemental geographical data about the top sites\n-Use the FourSquare API to get top restaurent recommendations closest to each of the top site\n-Use open source Chicago Crime data to provide the user with additional crime data"
        },
        {
            "cell_type": "markdown",
            "metadata": {},
            "source": "# **Using Foursquare website the following place was retrieved:**"
        },
        {
            "cell_type": "markdown",
            "metadata": {},
            "source": "This is the HTML Format of the place retrieved:"
        },
        {
            "cell_type": "markdown",
            "metadata": {},
            "source": "<div class=\"venueDetails\">\n    <div class=\"venueName\">\n        <h2>\n    <a href=\"/v/millennium-park/42b75880f964a52090251fe3\" target=\"_blank\">Millennium Park\n    </a>\n</h2>\n    </div>\n    <div class=\"venueMeta\">\n        <div class=\"venueScore positive\" style=\"background-color: #00B551;\" title=\"9.7/10 - People like this place\">9.7</div>\n        <div class=\"venueAddressData\">\n            <div class=\"venueAddress\">201 E Randolph St (btwn Columbus Dr &amp; Michigan Ave), Chicago</div>\n            <div class=\"venueData\"><span class=\"venueDataItem\"><span class=\"categoryName\">Park</span><span class=\"delim\"> \u2022 </span></span>\n            </div>\n        </div>\n    </div>\n</div>"
        },
        {
            "cell_type": "markdown",
            "metadata": {},
            "source": "<div class=\"venueDetails\">\n    <div class=\"venueName\">\n        <h2>\n    <a href=\"/v/millennium-park/42b75880f964a52090251fe3\" target=\"_blank\">Millennium Park\n    </a>\n</h2>\n    </div>\n    <div class=\"venueMeta\">\n        <div class=\"venueScore positive\" style=\"background-color: #00B551;\" title=\"9.7/10 - People like this place\">9.7</div>\n        <div class=\"venueAddressData\">\n            <div class=\"venueAddress\">201 E Randolph St (btwn Columbus Dr &amp; Michigan Ave), Chicago</div>\n            <div class=\"venueData\"><span class=\"venueDataItem\"><span class=\"categoryName\">Park</span><span class=\"delim\"> \u2022 </span></span>\n            </div>\n        </div>\n    </div>\n</div>"
        },
        {
            "cell_type": "markdown",
            "metadata": {},
            "source": "**From this HTML the following data can be extracted:**\n\n-Venue Name\n\n-Venue Score\n\n-Venue Category\n\n-Venue HREF \n\n-Venue ID [Extracted from the HREF]"
        },
        {
            "cell_type": "code",
            "execution_count": 5,
            "metadata": {},
            "outputs": [
                {
                    "name": "stdout",
                    "output_type": "stream",
                    "text": "Solving environment: done\n\n## Package Plan ##\n\n  environment location: /opt/conda/envs/Python36\n\n  added / updated specs: \n    - geopy\n\n\nThe following packages will be downloaded:\n\n    package                    |            build\n    ---------------------------|-----------------\n    geographiclib-1.50         |             py_0          34 KB  conda-forge\n    geopy-1.20.0               |             py_0          57 KB  conda-forge\n    openssl-1.1.1d             |       h516909a_0         2.1 MB  conda-forge\n    ca-certificates-2019.11.28 |       hecc5488_0         145 KB  conda-forge\n    certifi-2019.11.28         |           py36_0         149 KB  conda-forge\n    ------------------------------------------------------------\n                                           Total:         2.5 MB\n\nThe following NEW packages will be INSTALLED:\n\n    geographiclib:   1.50-py_0         conda-forge\n    geopy:           1.20.0-py_0       conda-forge\n\nThe following packages will be UPDATED:\n\n    ca-certificates: 2019.11.27-0                  --> 2019.11.28-hecc5488_0 conda-forge\n    certifi:         2019.11.28-py36_0             --> 2019.11.28-py36_0     conda-forge\n\nThe following packages will be DOWNGRADED:\n\n    openssl:         1.1.1d-h7b6447c_3             --> 1.1.1d-h516909a_0     conda-forge\n\n\nDownloading and Extracting Packages\ngeographiclib-1.50   | 34 KB     | ##################################### | 100% \ngeopy-1.20.0         | 57 KB     | ##################################### | 100% \nopenssl-1.1.1d       | 2.1 MB    | ##################################### | 100% \nca-certificates-2019 | 145 KB    | ##################################### | 100% \ncertifi-2019.11.28   | 149 KB    | ##################################### | 100% \nPreparing transaction: done\nVerifying transaction: done\nExecuting transaction: done\nSolving environment: done\n\n## Package Plan ##\n\n  environment location: /opt/conda/envs/Python36\n\n  added / updated specs: \n    - folium=0.5.0\n\n\nThe following packages will be downloaded:\n\n    package                    |            build\n    ---------------------------|-----------------\n    branca-0.3.1               |             py_0          25 KB  conda-forge\n    vincent-0.4.4              |             py_1          28 KB  conda-forge\n    altair-4.0.0               |             py_0         606 KB  conda-forge\n    folium-0.5.0               |             py_0          45 KB  conda-forge\n    ------------------------------------------------------------\n                                           Total:         704 KB\n\nThe following NEW packages will be INSTALLED:\n\n    altair:  4.0.0-py_0 conda-forge\n    branca:  0.3.1-py_0 conda-forge\n    folium:  0.5.0-py_0 conda-forge\n    vincent: 0.4.4-py_1 conda-forge\n\n\nDownloading and Extracting Packages\nbranca-0.3.1         | 25 KB     | ##################################### | 100% \nvincent-0.4.4        | 28 KB     | ##################################### | 100% \naltair-4.0.0         | 606 KB    | ##################################### | 100% \nfolium-0.5.0         | 45 KB     | ##################################### | 100% \nPreparing transaction: done\nVerifying transaction: done\nExecuting transaction: done\nLibraries imported.\n"
                }
            ],
            "source": "import numpy as np \n\nimport pandas as pd\npd.set_option('display.max_columns', None)\npd.set_option('display.max_rows', None)\n\n!conda install -c conda-forge geopy --yes \nfrom geopy.geocoders import Nominatim \n\n!conda install -c conda-forge folium=0.5.0 --yes \nimport folium\n\nprint('Libraries imported.')"
        },
        {
            "cell_type": "code",
            "execution_count": 13,
            "metadata": {},
            "outputs": [
                {
                    "name": "stdout",
                    "output_type": "stream",
                    "text": "Your credentails:\nCLIENT_ID: 1Q4G4F25KPMGQXWXACAU3D5VFZS54OU2JVPVMFCDIVNZCAKQ\nCLIENT_SECRET:TMS0PO1DZV35Z4K4JUNHNKQKL2YWBQK0DAI2YLBZTKBNCBHK\n"
                }
            ],
            "source": "CLIENT_ID = '1Q4G4F25KPMGQXWXACAU3D5VFZS54OU2JVPVMFCDIVNZCAKQ' \nCLIENT_SECRET = 'TMS0PO1DZV35Z4K4JUNHNKQKL2YWBQK0DAI2YLBZTKBNCBHK'\nVERSION = '20180605' # Foursquare API version\n\nprint('Your credentails:')\nprint('CLIENT_ID: ' + CLIENT_ID)\nprint('CLIENT_SECRET:' + CLIENT_SECRET)"
        },
        {
            "cell_type": "markdown",
            "metadata": {},
            "source": "# **Geographical Data**"
        },
        {
            "cell_type": "code",
            "execution_count": null,
            "metadata": {},
            "outputs": [],
            "source": "url = 'https://api.foursquare.com/v2/venues/{}?client_id={}&client_secret={}&v={}'.format(\n    venue_id, \n    cfg['CLIENT_ID'],\n    cfg['CLIENT_SECRET'],\n    cfg['version'])\n    \nresult = requests.get(url).json()\nresult['response']['venue']['location']"
        },
        {
            "cell_type": "markdown",
            "metadata": {},
            "source": "**From this the following attributes are extracted:**\n\n-Venue Address\n\n-Venue Postalcode\n\n-Venue City\n\n-Venue Latitude\n\n-Venue Longitude"
        },
        {
            "cell_type": "markdown",
            "metadata": {},
            "source": "{  \n   \"city\":\"Chicago\",\n   \"lng\":-87.62323915831546,\n   \"crossStreet\":\"btwn Columbus Dr & Michigan Ave\",\n   \"neighborhood\":\"The Loop\",\n   \"postalCode\":\"60601\",\n   \"cc\":\"US\",\n   \"formattedAddress\":[  \n      \"201 E Randolph St (btwn Columbus Dr & Michigan Ave)\",\n      \"Chicago, IL 60601\",\n      \"United States\"\n   ],\n   \"state\":\"IL\",\n   \"address\":\"201 E Randolph St\",\n   \"lat\":41.8826616030636,\n   \"country\":\"United States\"\n}"
        },
        {
            "cell_type": "code",
            "execution_count": null,
            "metadata": {},
            "outputs": [],
            "source": ""
        },
        {
            "cell_type": "code",
            "execution_count": null,
            "metadata": {},
            "outputs": [],
            "source": ""
        },
        {
            "cell_type": "code",
            "execution_count": null,
            "metadata": {},
            "outputs": [],
            "source": ""
        },
        {
            "cell_type": "code",
            "execution_count": null,
            "metadata": {},
            "outputs": [],
            "source": ""
        },
        {
            "cell_type": "code",
            "execution_count": null,
            "metadata": {},
            "outputs": [],
            "source": ""
        },
        {
            "cell_type": "code",
            "execution_count": null,
            "metadata": {},
            "outputs": [],
            "source": ""
        }
    ],
    "metadata": {
        "kernelspec": {
            "display_name": "Python 3.6",
            "language": "python",
            "name": "python3"
        },
        "language_info": {
            "codemirror_mode": {
                "name": "ipython",
                "version": 3
            },
            "file_extension": ".py",
            "mimetype": "text/x-python",
            "name": "python",
            "nbconvert_exporter": "python",
            "pygments_lexer": "ipython3",
            "version": "3.6.8"
        }
    },
    "nbformat": 4,
    "nbformat_minor": 1
}